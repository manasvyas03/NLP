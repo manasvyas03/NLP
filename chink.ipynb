{
 "cells": [
  {
   "cell_type": "code",
   "execution_count": 9,
   "metadata": {},
   "outputs": [],
   "source": [
    "import nltk\n",
    "from nltk.tokenize import PunktSentenceTokenizer\n",
    "\n",
    "# Manually provided text samples\n",
    "train_text = \"\"\"Rama killed Ravana to save Sita from Lanka.\"\"\"\n",
    "sample_text = \"\"\"The legend of the Ramayan is the most popular Indian epic. \n",
    "A lot of movies and serials have already been shot in several languages here in India based on the Ramayana.\"\"\"\n",
    "\n",
    "# Custom sentence tokenizer\n",
    "custom_sent_tokenizer = PunktSentenceTokenizer(train_text)\n",
    "\n",
    "# Tokenizing the sample text\n",
    "tokenized = custom_sent_tokenizer.tokenize(sample_text)\n",
    "\n",
    "def process_content():\n",
    "    try:\n",
    "        for i in tokenized[5:]:\n",
    "            words = nltk.word_tokenize(i)\n",
    "            tagged = nltk.pos_tag(words)\n",
    "\n",
    "            chunkGram = r\"\"\"Chunk: {<.*>+}\n",
    "                                    }<VB.?|IN|DT|TO>+{\"\"\"\n",
    "\n",
    "            chunkParser = nltk.RegexpParser(chunkGram)\n",
    "            chunked = chunkParser.parse(tagged)\n",
    "\n",
    "            print(chunked)  # Print the chunk tree structure instead of drawing it\n",
    "\n",
    "    except Exception as e:\n",
    "        print(str(e))\n",
    "\n",
    "process_content()\n"
   ]
  },
  {
   "cell_type": "code",
   "execution_count": 10,
   "metadata": {},
   "outputs": [],
   "source": [
    "\n",
    "tokenized=nltk.sent_tokenize(sample_text)\n",
    "for i in tokenized:\n",
    "  words=nltk.word_tokenize(i)\n",
    "  # print(words)\n",
    "  tagged_words=nltk.pos_tag(words)\n",
    "  # print(tagged_words)\n",
    "  chunkGram=r\"\"\"VB: {}\"\"\"\n",
    "  chunkParser=nltk.RegexpParser(chunkGram)\n",
    "  chunked=chunkParser.parse(tagged_words)\n",
    "  chunked.draw()"
   ]
  }
 ],
 "metadata": {
  "kernelspec": {
   "display_name": "Python 3",
   "language": "python",
   "name": "python3"
  },
  "language_info": {
   "codemirror_mode": {
    "name": "ipython",
    "version": 3
   },
   "file_extension": ".py",
   "mimetype": "text/x-python",
   "name": "python",
   "nbconvert_exporter": "python",
   "pygments_lexer": "ipython3",
   "version": "3.12.2"
  }
 },
 "nbformat": 4,
 "nbformat_minor": 2
}
