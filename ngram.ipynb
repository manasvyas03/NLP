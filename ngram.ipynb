{
 "cells": [
  {
   "cell_type": "code",
   "execution_count": 18,
   "metadata": {},
   "outputs": [],
   "source": [
    "from nltk.util import ngrams\n",
    "from collections import Counter\n",
    "\n",
    "corpus=[\n",
    "    'This is a dog',\n",
    "    'This is a cat',\n",
    "    'I love my cat',\n",
    "    'This is my name'\n",
    "]\n",
    "\n",
    "def preprocess(text):\n",
    "    return text.lower().split()\n"
   ]
  },
  {
   "cell_type": "code",
   "execution_count": 19,
   "metadata": {},
   "outputs": [],
   "source": [
    "#Combine all sentences into a single list of words\n",
    "all_words=[]\n",
    "for sentence in corpus:\n",
    "    all_words.extend(preprocess(sentence))\n",
    "\n",
    "\n",
    "#Unigram bigram trigram\n",
    "unigrams = list(ngrams(all_words,1))\n",
    "bigrams = list(ngrams(all_words,2))\n",
    "trigrams = list(ngrams(all_words,3))\n",
    "\n",
    "unigram_counts=Counter(unigrams)\n",
    "bigram_counts=Counter(bigrams)\n",
    "trigram_counts=Counter(trigrams)\n",
    "    "
   ]
  },
  {
   "cell_type": "code",
   "execution_count": 20,
   "metadata": {},
   "outputs": [
    {
     "name": "stdout",
     "output_type": "stream",
     "text": [
      "Unigrams:\n",
      "('this',): 3\n",
      "('is',): 3\n",
      "('a',): 2\n",
      "('dog',): 1\n",
      "('cat',): 2\n",
      "('i',): 1\n",
      "('love',): 1\n",
      "('my',): 2\n",
      "('name',): 1\n",
      "Bigrams:\n",
      "('this', 'is'): 3\n",
      "('is', 'a'): 2\n",
      "('a', 'dog'): 1\n",
      "('dog', 'this'): 1\n",
      "('a', 'cat'): 1\n",
      "('cat', 'i'): 1\n",
      "('i', 'love'): 1\n",
      "('love', 'my'): 1\n",
      "('my', 'cat'): 1\n",
      "('cat', 'this'): 1\n",
      "('is', 'my'): 1\n",
      "('my', 'name'): 1\n",
      "Trigrams:\n",
      "('this', 'is', 'a'): 2\n",
      "('is', 'a', 'dog'): 1\n",
      "('a', 'dog', 'this'): 1\n",
      "('dog', 'this', 'is'): 1\n",
      "('is', 'a', 'cat'): 1\n",
      "('a', 'cat', 'i'): 1\n",
      "('cat', 'i', 'love'): 1\n",
      "('i', 'love', 'my'): 1\n",
      "('love', 'my', 'cat'): 1\n",
      "('my', 'cat', 'this'): 1\n",
      "('cat', 'this', 'is'): 1\n",
      "('this', 'is', 'my'): 1\n",
      "('is', 'my', 'name'): 1\n"
     ]
    }
   ],
   "source": [
    "#Display above\n",
    "print(\"Unigrams:\")\n",
    "for unigram, count in unigram_counts.items():\n",
    "    print(f\"{unigram}: {count}\")\n",
    "    \n",
    "print(\"Bigrams:\")\n",
    "for bigram, count in bigram_counts.items():\n",
    "    print(f\"{bigram}: {count}\")    \n",
    "    \n",
    "print(\"Trigrams:\")\n",
    "for trigram, count in trigram_counts.items():\n",
    "    print(f\"{trigram}: {count}\")"
   ]
  },
  {
   "cell_type": "code",
   "execution_count": 6,
   "metadata": {},
   "outputs": [
    {
     "name": "stderr",
     "output_type": "stream",
     "text": [
      "[nltk_data] Downloading package gutenberg to\n",
      "[nltk_data]     C:\\Users\\vyasm\\AppData\\Roaming\\nltk_data...\n",
      "[nltk_data]   Package gutenberg is already up-to-date!\n",
      "[nltk_data] Downloading package brown to\n",
      "[nltk_data]     C:\\Users\\vyasm\\AppData\\Roaming\\nltk_data...\n",
      "[nltk_data]   Package brown is already up-to-date!\n"
     ]
    }
   ],
   "source": [
    "import nltk\n",
    "from nltk.corpus import gutenberg, brown\n",
    "from nltk.util import ngrams\n",
    "from collections import Counter\n",
    "\n",
    "#Download necessary NLTK data files\n",
    "nltk.download('gutenberg')\n",
    "nltk.download('brown')\n",
    "\n",
    "#Choose corpus\n",
    "#corpus=gutenberg.words('austen-emma.txt')\n",
    "corpus=brown.words(categories='news')\n"
   ]
  },
  {
   "cell_type": "code",
   "execution_count": 17,
   "metadata": {},
   "outputs": [
    {
     "name": "stdout",
     "output_type": "stream",
     "text": [
      "Most common unigrams: [(('The Internet of things describes devices with sensors, processing ability, software and other technologies that connect and exchange data with other devices and systems over the Internet or other communications networks. The Internet of things encompasses electronics, communication, and computer science engineering.',), 1)]\n",
      "Most common bigrams: []\n",
      "Most common trigrams: []\n"
     ]
    }
   ],
   "source": [
    "#Function to find ngram\n",
    "\n",
    "def find_ngrams(corpus,n):\n",
    "    ngrams_list=list(ngrams(corpus,n))\n",
    "    return Counter(ngrams_list)\n",
    "\n",
    "#Find unigrams\n",
    "\n",
    "unigrams=find_ngrams(corpus,1)\n",
    "bigrams=find_ngrams(corpus,2)\n",
    "trigrams=find_ngrams(corpus,3)\n",
    "\n",
    "print(\"Most common unigrams:\", unigrams.most_common(10))\n",
    "print(\"Most common bigrams:\", bigrams.most_common(10))\n",
    "print(\"Most common trigrams:\", trigrams.most_common(10))\n",
    "\n",
    "\n",
    "\n"
   ]
  },
  {
   "cell_type": "code",
   "execution_count": 8,
   "metadata": {},
   "outputs": [],
   "source": [
    "from collections import defaultdict, Counter\n",
    "\n",
    "corpus=[\n",
    "    'This is a dog',\n",
    "    'This is a cat',\n",
    "    'I love my cat',\n",
    "    'This is my name'\n",
    "]\n",
    "\n",
    "def preprocess(text):\n",
    "    return text.lower().split()\n",
    "\n",
    "#Build bigram model\n",
    "\n",
    "bigram_counts=defaultdict(Counter)\n",
    "unigram_counts=Counter()\n",
    "for sentences in corpus:\n",
    "    words=preprocess(sentence)\n",
    "    unigram_counts.update(words)\n",
    "    for i in range(len(words)-1):\n",
    "        bigram_counts[words[i]][words[i+1]]+=1\n",
    "    "
   ]
  },
  {
   "cell_type": "code",
   "execution_count": 13,
   "metadata": {},
   "outputs": [
    {
     "name": "stdout",
     "output_type": "stream",
     "text": [
      "Probability of 'this is': 0.75\n",
      "Probability of 'is my': 0.25\n",
      "Probability of 'my cat': 0.25\n",
      "\n",
      "Probability of sentence 'This is my cat': 0.046875\n"
     ]
    }
   ],
   "source": [
    "def bigram_probability(sentence):\n",
    "    words= preprocess(sentence)\n",
    "    probability=1.0\n",
    "    for i in range(len(words)-1):\n",
    "         first_word, second_word = words[i], words[i + 1]\n",
    "         # Calculate probability of the bigram\n",
    "         prob = bigram_counts[first_word][second_word] / unigram_counts[first_word]\n",
    "         probability *= prob\n",
    "         print(f\"Probability of '{first_word} {second_word}': {prob}\")\n",
    "    return probability\n",
    "\n",
    "# Test Sentence \n",
    "sentence = \"This is my cat\"\n",
    "probability = bigram_probability(sentence)\n",
    "print(f\"\\nProbability of sentence '{sentence}': {probability}\")\n"
   ]
  },
  {
   "cell_type": "code",
   "execution_count": 10,
   "metadata": {},
   "outputs": [],
   "source": [
    "from collections import defaultdict, Counter\n",
    "\n",
    "# Initialize your defaultdicts\n",
    "trigram_counts = defaultdict(Counter)\n",
    "bigram_counts = defaultdict(Counter)\n",
    "\n",
    "for sentence in corpus:\n",
    "    words = preprocess(sentence)  # preprocess the sentence to get the list of words\n",
    "    for i in range(len(words) - 2):\n",
    "        trigram_counts[(words[i], words[i+1])][words[i+2]] += 1  # Increment the trigram count by 1\n",
    "    for i in range(len(words) - 1):\n",
    "        bigram_counts[words[i]][words[i + 1]] += 1  # Increment the bigram count by 1\n"
   ]
  },
  {
   "cell_type": "code",
   "execution_count": 11,
   "metadata": {},
   "outputs": [
    {
     "name": "stdout",
     "output_type": "stream",
     "text": [
      "Probability of 'this is': 0.75\n",
      "Probability of 'is my': 0.25\n",
      "Probability of 'my name': 0.25\n",
      "\n",
      "Probability of sentence 'This is my name': 0.046875\n"
     ]
    }
   ],
   "source": [
    "def trigram_probability(sentence):\n",
    "    words = preprocess(sentence)\n",
    "    probability = 1.0\n",
    "    \n",
    "    for i in range(len(words) - 2):\n",
    "        first_word, second_word, third_word = words[i], words[i + 1], words[i + 2]\n",
    "        \n",
    "        if (first_word, second_word) in trigram_counts and third_word in trigram_counts[(first_word, second_word)]:\n",
    "            prob = trigram_counts[(first_word, second_word)][third_word] / bigram_counts[first_word][second_word]\n",
    "            probability *= prob\n",
    "            print(f\"P({third_word} | {first_word} {second_word}) = {prob}\")\n",
    "        else:\n",
    "            print(f\"Trigram ({first_word}, {second_word}, {third_word}) not found.\")\n",
    "            probability *= 0 # Probability becomes zero if the trigram doesn't exist\n",
    "    \n",
    "    return probability\n",
    "\n",
    "# Test Sentence \n",
    "sentence = \"This is my name\"\n",
    "probability = bigram_probability(sentence)\n",
    "print(f\"\\nProbability of sentence '{sentence}': {probability}\")"
   ]
  },
  {
   "cell_type": "code",
   "execution_count": 12,
   "metadata": {},
   "outputs": [
    {
     "data": {
      "text/plain": [
       "'The Internet of things describes devices with sensors, processing ability, software and other technologies that connect and exchange data with other devices and systems over the Internet or other communications networks. The Internet of things encompasses electronics, communication, and computer science engineering.'"
      ]
     },
     "execution_count": 12,
     "metadata": {},
     "output_type": "execute_result"
    }
   ],
   "source": [
    "\"The Internet of things describes devices with sensors, processing ability, software and other technologies that connect and exchange data with other devices and systems over the Internet or other communications networks. The Internet of things encompasses electronics, communication, and computer science engineering.\"\n"
   ]
  }
 ],
 "metadata": {
  "kernelspec": {
   "display_name": "Python 3",
   "language": "python",
   "name": "python3"
  },
  "language_info": {
   "codemirror_mode": {
    "name": "ipython",
    "version": 3
   },
   "file_extension": ".py",
   "mimetype": "text/x-python",
   "name": "python",
   "nbconvert_exporter": "python",
   "pygments_lexer": "ipython3",
   "version": "3.12.2"
  }
 },
 "nbformat": 4,
 "nbformat_minor": 2
}
